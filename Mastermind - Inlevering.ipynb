{
 "cells": [
  {
   "cell_type": "code",
   "execution_count": 1,
   "metadata": {},
   "outputs": [
    {
     "data": {
      "text/plain": [
       "'termcolor gebaseerd op https://stackoverflow.com/questions/287871/how-to-print-colored-text-in-terminal-in-python'"
      ]
     },
     "execution_count": 1,
     "metadata": {},
     "output_type": "execute_result"
    }
   ],
   "source": [
    "import random\n",
    "import time\n",
    "from termcolor import colored\n",
    "\"\"\"termcolor gebaseerd op https://stackoverflow.com/questions/287871/how-to-print-colored-text-in-terminal-in-python\"\"\"\n",
    "# Zwart is goede plek, wit is niet op goede plek"
   ]
  },
  {
   "cell_type": "code",
   "execution_count": 2,
   "metadata": {},
   "outputs": [],
   "source": [
    "def returnKleurenList():\n",
    "    \"\"\"Returned een list met alle beschikbare kleuren in het spel. Is een functie omdat ik het niet in een global wou zetten.\"\"\"\n",
    "    kleurenList = ['r', 'g', 'b', 'y', 'w', 'p']\n",
    "    return kleurenList"
   ]
  },
  {
   "cell_type": "code",
   "execution_count": 3,
   "metadata": {},
   "outputs": [],
   "source": [
    "def createCombinationList():\n",
    "    \"\"\"Maakt alle 1296 mogelijke combo's aan\"\"\"\n",
    "    cList = returnKleurenList()\n",
    "    allCombinations = []\n",
    "    for i in cList:\n",
    "        for j in cList:\n",
    "            for k in cList:\n",
    "                for l in cList:\n",
    "                    allCombinations.append([i, j, k, l])\n",
    "    return allCombinations #Alle 1296 combinaties"
   ]
  },
  {
   "cell_type": "code",
   "execution_count": 4,
   "metadata": {},
   "outputs": [],
   "source": [
    "def generateColorString(amount):\n",
    "    \"\"\"Computer genereert random colorstring van x lengte en returned target.\"\"\"\n",
    "    list = returnKleurenList()\n",
    "    string = []\n",
    "    for i in range(0, amount):\n",
    "        string.append(random.choice(list))\n",
    "    return string"
   ]
  },
  {
   "cell_type": "code",
   "execution_count": 5,
   "metadata": {},
   "outputs": [],
   "source": [
    "# Source voor korte versie: https://www.w3schools.com/python/python_howto_remove_duplicates.asp\n",
    "def kleurenInCombo(combo):\n",
    "    \"\"\"Returned lijst met de kleuren van een gok, zonder duplicates. Is nodig voor de feedback.\"\"\"\n",
    "    kleuren = list(dict.fromkeys(combo))\n",
    "    return kleuren"
   ]
  },
  {
   "cell_type": "code",
   "execution_count": 6,
   "metadata": {},
   "outputs": [],
   "source": [
    "def printColorkeyString(kleurstring):\n",
    "    \"\"\"Zet een list om in een rij pinnen (in kleur)\"\"\"\n",
    "    string = \"\"\n",
    "    for i in kleurstring:\n",
    "        if i == \"r\":\n",
    "            string += (colored('r ', 'red'))\n",
    "        elif i == \"b\":\n",
    "            string += (colored('b ', 'blue'))\n",
    "        elif i == \"g\":\n",
    "            string += (colored('g ', 'green'))\n",
    "        elif i == \"y\":\n",
    "            string += (colored('y ', 'yellow'))\n",
    "        elif i == \"w\":\n",
    "            string += (colored('w ', \"white\"))\n",
    "        elif i == \"p\":\n",
    "            string += (colored('p ', 'magenta'))\n",
    "        else:\n",
    "            print(\"ERROR: colorkey bestaat niet uit de juiste kleuren.\")\n",
    "    return string"
   ]
  },
  {
   "cell_type": "code",
   "execution_count": 7,
   "metadata": {},
   "outputs": [],
   "source": [
    "def generateFeedback(kleurstring, key):\n",
    "    \"\"\"Computer geeft feedback op de opgeleverde codecombo, vergelijkt met 2e combo. Return is ZWART, WIT\"\"\"\n",
    "    tempkleurstring = kleurstring.copy()    # Copies zijn nodig zodat ik dubbele waarden eruit kan halen\n",
    "    tempcolorkey = key.copy()\n",
    "    zwart = 0\n",
    "    wit = 0\n",
    "    # Vervangt de waardes in de string zodat ze correct geteld worden wanneer je een dubbele kleur in je code hebt.\n",
    "    for i in range(0, len(tempkleurstring)):\n",
    "        if tempkleurstring[i] == tempcolorkey[i]: #Staat op goede plek\n",
    "            tempcolorkey[i] = \"z-pin ck\"\n",
    "            tempkleurstring[i] = \"z-pin ks\"\n",
    "            zwart += 1\n",
    "    for i in range(0, len(tempkleurstring)):\n",
    "        if tempkleurstring[i] in tempcolorkey:\n",
    "            tempcolorkey[(tempcolorkey.index(tempkleurstring[i]))] = \"w-pin\"\n",
    "            tempkleurstring[i] = \"w-pin\"\n",
    "            wit += 1\n",
    "    return zwart, wit"
   ]
  },
  {
   "cell_type": "code",
   "execution_count": 8,
   "metadata": {},
   "outputs": [],
   "source": [
    "def printFeedback(zwart, wit, totalInput):\n",
    "    \"\"\"Print de feedback van een turn\"\"\"\n",
    "    print(\"Feedback: {} zwarte pinnen, {} witte pinnen.\".format(zwart, wit))\n",
    "    if zwart == totalInput:\n",
    "        print(\"Gefeliciteerd, je hebt de code gekraakt!\")\n",
    "        exit(\"Code is gekraakt\")"
   ]
  },
  {
   "cell_type": "code",
   "execution_count": 9,
   "metadata": {},
   "outputs": [],
   "source": [
    "def intro():\n",
    "    \"\"\"Start het spel op, vraagt om de GameMode\"\"\"\n",
    "    gamemode = input(\"Hallo, welkom bij Mastermind. Je speelt tegen een computer.\\n \"\n",
    "                        \"#1. Wil je de code raden? Typ 'Raden' in.\\n \"\n",
    "                        \"#2. Wil je dat de computer je code raadt? Typ 'Feedback' in.\\n\")\n",
    "    gamemode = ''.join(gamemode.split())\n",
    "    if gamemode.lower() == \"raden\" or gamemode.lower() == \"1\" or gamemode.lower() == 'r':\n",
    "        print(\"Raden loop\")\n",
    "        radenGameloop()\n",
    "    elif gamemode.lower() == \"feedback\" or gamemode.lower() == \"2\" or gamemode.lower() == 'f':\n",
    "        print(\"Feedback loop\") #Bij de feedback loop vraagt hij nog om de strategy bij de eerste turn\n",
    "        startGok = input(\"Moet de eerste gok een AABB, AABC, ABCD of AAAA volgorde hebben? \")\n",
    "        if startGok.lower() == '1' or startGok.lower() == 'aabb':\n",
    "            feedbackGameloop(1)\n",
    "        elif startGok.lower() == '2' or startGok.lower() == 'aabc':\n",
    "            feedbackGameloop(2)\n",
    "        elif startGok.lower() == '3' or startGok.lower() == 'abcd':\n",
    "            feedbackGameloop(3)\n",
    "        elif startGok.lower() == '4' or startGok.lower() == 'aaaa':\n",
    "            feedbackGameloop(4)\n",
    "        else:\n",
    "            exit(402)\n",
    "            raise # Gooit een raise op omdat exit niet altijd goed werkt in een jupyter notebook.\n",
    "    else:\n",
    "        print(\"Dat is geen goede input. Probeer opnieuw.\")\n",
    "        exit(403)   #input geen raden/feedback\n",
    "        raise"
   ]
  },
  {
   "cell_type": "code",
   "execution_count": 10,
   "metadata": {},
   "outputs": [],
   "source": [
    "def radenGameloop():\n",
    "    \"\"\"Gameloop als JIJ de code wilt raden\"\"\"\n",
    "    # Vraag voor beurten en kleuren\n",
    "    pinsAmount = int(input(\"Uit hoeveel pinnetjes moet de code bestaan? (Standaard = 4)\"))\n",
    "    turnsAmount = int(input(\"Hoeveel beurten wil je maximaal hebben? (Standaard = 10)\"))\n",
    "    colorkey = generateColorString(pinsAmount)\n",
    "    # Comment de lijn hieronder uit als je het antwoord wilt zien aan het begin van het spel!\n",
    "#     print(\"SPOILER: De code is {}\".format(printColorkeyString(colorkey)))\n",
    "    for i in range(1, turnsAmount+1):\n",
    "        print(\"Turn #{} (van {})\".format(i, turnsAmount))\n",
    "        laatsteZet = createColorkey(pinsAmount)\n",
    "        zwart, wit = generateFeedback(laatsteZet, colorkey)\n",
    "        printFeedback(zwart, wit, pinsAmount)\n",
    "        if zwart == pinsAmount:\n",
    "            break\n",
    "    print(\"De code was: {}\".format(printColorkeyString(colorkey)))"
   ]
  },
  {
   "cell_type": "code",
   "execution_count": 11,
   "metadata": {},
   "outputs": [],
   "source": [
    "def createColorkey(totalInputs):\n",
    "    \"\"\"Je vult de colorkey in, aan de hand van X vragen. Na afloop krijg je de vraag of je akkoord gaat met je code.\"\"\"\n",
    "    code = []\n",
    "    print(\"De beschikbare kleuren zijn {}, {}, {}, {}, {} en {}.\".format(colored(\"Rood\", \"red\"),\n",
    "          colored(\"Groen\", \"green\"),\n",
    "          colored(\"Blauw\", \"blue\"),\n",
    "          colored(\"Geel\", \"yellow\"),\n",
    "          colored(\"Wit\", \"white\"),\n",
    "          colored(\"Paars\", \"magenta\")))\n",
    "    print(\"-\" * 80)\n",
    "    for i in range(1,totalInputs + 1):\n",
    "        color = input(\"Voer hier kleur {} in: \\n\".format(i))\n",
    "        color = ''.join(color.split())\n",
    "        if color.lower() == \"r\" or color.lower() == \"rood\" or color.lower() == \"red\":\n",
    "            code.append(\"r\")\n",
    "        elif color.lower() == \"b\" or color.lower() == \"blauw\" or color.lower() == \"blue\":\n",
    "            code.append(\"b\")\n",
    "        elif color.lower() == \"y\" or color.lower() == \"geel\" or color.lower() == \"yellow\":\n",
    "            code.append(\"y\")\n",
    "        elif color.lower() == \"g\" or color.lower() == \"groen\" or color.lower() == \"green\":\n",
    "            code.append(\"g\")\n",
    "        elif color.lower() == \"w\" or color.lower() == \"white\" or color.lower() == \"wit\":\n",
    "            code.append(\"w\")\n",
    "        elif color.lower() == \"p\" or color.lower() == \"paars\" or color.lower() == \"purple\":\n",
    "            code.append(\"p\")\n",
    "        elif color.lower() == \"random\":\n",
    "            code = generateColorString(totalInputs)\n",
    "            break\n",
    "        else:\n",
    "            print(\"Kleur kon niet gelezen worden. Herstart het programma en probeer opnieuw\")\n",
    "            exit(401) #Ik moet hier restarten omdat hij anders de oude code ook blijft lezen. Dit crasht het programma.\n",
    "            raise\n",
    "    print(\"-\" * 80)\n",
    "    if len(code) != totalInputs:\n",
    "        print(\"Failswitch: Code bestaat NIET uit de juiste hoeveelheid chars. ({}, len {})\".format(code, len(code)))\n",
    "        createColorkey(totalInputs)\n",
    "    else:\n",
    "        tempkey = code\n",
    "\n",
    "        confirmation = input(\"Je huidige code is:\\n{}\\nIs dit ok?\\n\".format(printColorkeyString(tempkey)))\n",
    "        confirmation = ''.join(confirmation.split())\n",
    "        if confirmation.lower() == \"yes\" or confirmation.lower() == \"ja\" or confirmation.lower() == \"j\" \\\n",
    "                or confirmation.lower() == \"y\" or confirmation.lower() == \"ok\":\n",
    "            return tempkey\n",
    "        else:\n",
    "            print(\"Herstart het programma en probeer het opnieuw.\")\n",
    "            exit(401) #Ik moet hier restarten omdat hij anders de oude code ook blijft lezen. Dit crasht het programma.\n",
    "            raise"
   ]
  },
  {
   "cell_type": "code",
   "execution_count": 12,
   "metadata": {},
   "outputs": [],
   "source": [
    "def generateFirstTurnAABB(totalInputs):\n",
    "    \"\"\"Genereert de eerste turn, die een volgorde van AABB volgt. Dit is de Worst-Case Strategy\"\"\"\n",
    "    colorString = []\n",
    "    while True:\n",
    "        for i in range(0, totalInputs):\n",
    "            colorString.append(random.choice(returnKleurenList()))\n",
    "        if colorString[0] == colorString[1] and colorString[2] == colorString[3] and colorString[0] != colorString[2]:\n",
    "            break\n",
    "        elif colorString[0] == colorString[2] and colorString[1] == colorString[3] and colorString[0] != colorString[1]:\n",
    "            break\n",
    "        elif colorString[0] == colorString[3] and colorString[1] == colorString[2] and colorString[0] != colorString[1]:\n",
    "            break\n",
    "        else:\n",
    "            colorString.clear()\n",
    "    return colorString"
   ]
  },
  {
   "cell_type": "code",
   "execution_count": 13,
   "metadata": {},
   "outputs": [],
   "source": [
    "def generateFirstTurnAABC(totalInputs):\n",
    "    \"\"\"Genereert de eerste turn, die een volgorde van AABC volgt. Dit is de Expected-Size Strategy\"\"\"\n",
    "    colorString = []\n",
    "    while True:\n",
    "        for i in range(0, totalInputs):\n",
    "            colorString.append(random.choice(returnKleurenList()))\n",
    "        if colorString[0] == colorString[1] and colorString[2] != colorString[3] and colorString[0] != colorString[2] and colorString[0] != colorString[3]:\n",
    "            break\n",
    "        elif colorString[0] == colorString[2] and colorString[1] != colorString[3] and colorString[0] != colorString[1] and colorString[0] != colorString[3]:\n",
    "            break\n",
    "        elif colorString[0] == colorString[3] and colorString[1] != colorString[2] and colorString[0] != colorString[1] and colorString[0] != colorString[2]:\n",
    "            break\n",
    "        elif colorString[1] == colorString[2] and colorString[0] != colorString[3] and colorString[1] != colorString[0] and colorString[1] != colorString[3]:\n",
    "            break\n",
    "        elif colorString[1] == colorString[3] and colorString[0] != colorString[2] and colorString[1] != colorString[0] and colorString[1] != colorString[2]:\n",
    "            break\n",
    "        elif colorString[2] == colorString[3] and colorString[0] != colorString[1] and colorString[2] != colorString[0] and colorString[2] != colorString[1]:\n",
    "            break\n",
    "        else:\n",
    "            colorString.clear()\n",
    "    return colorString"
   ]
  },
  {
   "cell_type": "code",
   "execution_count": 14,
   "metadata": {},
   "outputs": [],
   "source": [
    "def generateFirstTurnABCD(totalInputs):\n",
    "    \"\"\"Genereert de eerste turn, die een volgorde van ABCD volgt. Dit is de Entropy Strategy\"\"\"\n",
    "    colorString = []\n",
    "    while True:\n",
    "        for i in range(0, totalInputs):\n",
    "            colorString.append(random.choice(returnKleurenList()))\n",
    "        if colorString[0] != colorString[1] and colorString[0] != colorString[2] and colorString[0] != colorString[3] and colorString[1] != colorString[2] and colorString[1] != colorString[3] and colorString[2] != colorString[3]:\n",
    "            break\n",
    "        else:\n",
    "            colorString.clear()\n",
    "    return colorString"
   ]
  },
  {
   "cell_type": "code",
   "execution_count": 15,
   "metadata": {},
   "outputs": [],
   "source": [
    "def generateFirstTurnAAAA(totalInputs):\n",
    "    \"\"\"Genereert de eerste turn, die een volgorde van AAAA volgt. Dit is mijn eigen strategy, die verreweg van perfect is.\"\"\"\n",
    "    colorString = []\n",
    "    while True:\n",
    "        for i in range(0, totalInputs):\n",
    "            colorString.append(random.choice(returnKleurenList()))\n",
    "        if colorString[0] == colorString[1] and colorString[0] == colorString[2] and colorString[0] == colorString[3]:\n",
    "            break\n",
    "        else:\n",
    "            colorString.clear()\n",
    "    return colorString"
   ]
  },
  {
   "cell_type": "code",
   "execution_count": 16,
   "metadata": {},
   "outputs": [],
   "source": [
    "def feedbackGameloop(startGok):\n",
    "    \"\"\"Gameloop als de computer jouw code moet raden\"\"\"\n",
    "    allCombinations = createCombinationList()\n",
    "    totalInput = 4 #Is de hoeveelheid pins die het gaat raden\n",
    "    colorkey = createColorkey(totalInput)\n",
    "    if startGok == 1:\n",
    "        latestTurnCombo = generateFirstTurnAABB(totalInput)\n",
    "    elif startGok == 2:\n",
    "        latestTurnCombo = generateFirstTurnAABC(totalInput)\n",
    "    elif startGok == 3:\n",
    "        latestTurnCombo = generateFirstTurnABCD(totalInput)\n",
    "    elif startGok == 4:\n",
    "        latestTurnCombo = generateFirstTurnAAAA(totalInput)\n",
    "    beurten = 10\n",
    "    print(\"-\" * 80)\n",
    "    for i in range(1, beurten+1):\n",
    "        print(\"\\n\" + \"-\" * 80)\n",
    "        print(\"Turn #{} (van {})\".format(i, beurten))\n",
    "        print(\"allcombo lengte: {}\".format(len(allCombinations)))\n",
    "        print(\"-\" * 80)\n",
    "        print(\"Computer's gok: \\n{}\".format(printColorkeyString(latestTurnCombo)))\n",
    "        zwart, wit = generateFeedback(latestTurnCombo, colorkey)\n",
    "        printFeedback(zwart, wit, totalInput)\n",
    "        if zwart == 0 and wit == 0: #Verwijdert alle combinaties waar de laatste kleuren in zaten, want combo is helemaal fout\n",
    "            kleuren = kleurenInCombo(latestTurnCombo)\n",
    "            for kleur in kleuren:\n",
    "                for aItems in reversed(allCombinations):    #1296\n",
    "                    if kleur in aItems:\n",
    "                        allCombinations.remove(aItems)\n",
    "        if zwart == totalInput:\n",
    "            print(\"CPU heeft de code geraden.\")\n",
    "            break\n",
    "        for j in reversed(allCombinations):\n",
    "            zwartCombo, witCombo = generateFeedback(j, latestTurnCombo)\n",
    "            if zwartCombo != zwart or witCombo != wit:\n",
    "                allCombinations.remove(j)\n",
    "        latestTurnCombo = allCombinations[allCombinations.index(random.choice(allCombinations))]\n",
    "        time.sleep(2) # Zodat het antwoord niet meteen op het scherm verschijnt. Zet dit naar 0 voor een snelle game\n",
    "\n",
    "    print(\"De code was: {}\".format(printColorkeyString(colorkey)))"
   ]
  },
  {
   "cell_type": "code",
   "execution_count": 17,
   "metadata": {
    "scrolled": false
   },
   "outputs": [
    {
     "name": "stdout",
     "output_type": "stream",
     "text": [
      "Hallo, welkom bij Mastermind. Je speelt tegen een computer.\n",
      " #1. Wil je de code raden? Typ 'Raden' in.\n",
      " #2. Wil je dat de computer je code raadt? Typ 'Feedback' in.\n",
      "2\n",
      "Feedback loop\n",
      "Moet de eerste gok een AABB, AABC, ABCD of AAAA volgorde hebben? AABB\n",
      "De beschikbare kleuren zijn \u001b[31mRood\u001b[0m, \u001b[32mGroen\u001b[0m, \u001b[34mBlauw\u001b[0m, \u001b[33mGeel\u001b[0m, \u001b[37mWit\u001b[0m en \u001b[35mPaars\u001b[0m.\n",
      "--------------------------------------------------------------------------------\n",
      "Voer hier kleur 1 in: \n",
      "Rood\n",
      "Voer hier kleur 2 in: \n",
      "gROEN\n",
      "Voer hier kleur 3 in: \n",
      "yellow\n",
      "Voer hier kleur 4 in: \n",
      "b\n",
      "--------------------------------------------------------------------------------\n",
      "Je huidige code is:\n",
      "r g y b \n",
      "Is dit ok?\n",
      "ok\n",
      "--------------------------------------------------------------------------------\n",
      "\n",
      "--------------------------------------------------------------------------------\n",
      "Turn #1 (van 10)\n",
      "allcombo lengte: 1296\n",
      "--------------------------------------------------------------------------------\n",
      "Computer's gok: \n",
      "\u001b[33my \u001b[0m\u001b[34mb \u001b[0m\u001b[33my \u001b[0m\u001b[34mb \u001b[0m\n",
      "Feedback: 2 zwarte pinnen, 0 witte pinnen.\n",
      "\n",
      "--------------------------------------------------------------------------------\n",
      "Turn #2 (van 10)\n",
      "allcombo lengte: 114\n",
      "--------------------------------------------------------------------------------\n",
      "Computer's gok: \n",
      "\u001b[33my \u001b[0m\u001b[32mg \u001b[0m\u001b[32mg \u001b[0m\u001b[34mb \u001b[0m\n",
      "Feedback: 2 zwarte pinnen, 1 witte pinnen.\n",
      "\n",
      "--------------------------------------------------------------------------------\n",
      "Turn #3 (van 10)\n",
      "allcombo lengte: 8\n",
      "--------------------------------------------------------------------------------\n",
      "Computer's gok: \n",
      "\u001b[31mr \u001b[0m\u001b[32mg \u001b[0m\u001b[33my \u001b[0m\u001b[34mb \u001b[0m\n",
      "Feedback: 4 zwarte pinnen, 0 witte pinnen.\n",
      "Gefeliciteerd, je hebt de code gekraakt!\n",
      "CPU heeft de code geraden.\n",
      "De code was: \u001b[31mr \u001b[0m\u001b[32mg \u001b[0m\u001b[33my \u001b[0m\u001b[34mb \u001b[0m\n"
     ]
    }
   ],
   "source": [
    "intro()"
   ]
  },
  {
   "cell_type": "code",
   "execution_count": null,
   "metadata": {},
   "outputs": [],
   "source": []
  },
  {
   "cell_type": "code",
   "execution_count": null,
   "metadata": {},
   "outputs": [],
   "source": []
  },
  {
   "cell_type": "code",
   "execution_count": null,
   "metadata": {},
   "outputs": [],
   "source": []
  },
  {
   "cell_type": "code",
   "execution_count": null,
   "metadata": {},
   "outputs": [],
   "source": []
  },
  {
   "cell_type": "code",
   "execution_count": null,
   "metadata": {},
   "outputs": [],
   "source": []
  },
  {
   "cell_type": "code",
   "execution_count": null,
   "metadata": {},
   "outputs": [],
   "source": []
  },
  {
   "cell_type": "code",
   "execution_count": null,
   "metadata": {},
   "outputs": [],
   "source": [
    "print(printColorkeyString(generateColorString(1000)))"
   ]
  }
 ],
 "metadata": {
  "anaconda-cloud": {},
  "kernelspec": {
   "display_name": "Python 3",
   "language": "python",
   "name": "python3"
  },
  "language_info": {
   "codemirror_mode": {
    "name": "ipython",
    "version": 3
   },
   "file_extension": ".py",
   "mimetype": "text/x-python",
   "name": "python",
   "nbconvert_exporter": "python",
   "pygments_lexer": "ipython3",
   "version": "3.8.3"
  }
 },
 "nbformat": 4,
 "nbformat_minor": 1
}
